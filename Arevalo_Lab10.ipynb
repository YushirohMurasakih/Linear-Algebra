{
  "nbformat": 4,
  "nbformat_minor": 0,
  "metadata": {
    "kernelspec": {
      "display_name": "Python 3",
      "language": "python",
      "name": "python3"
    },
    "language_info": {
      "codemirror_mode": {
        "name": "ipython",
        "version": 3
      },
      "file_extension": ".py",
      "mimetype": "text/x-python",
      "name": "python",
      "nbconvert_exporter": "python",
      "pygments_lexer": "ipython3",
      "version": "3.8.3"
    },
    "colab": {
      "name": "Arevalo_Lab10",
      "provenance": [],
      "include_colab_link": true
    }
  },
  "cells": [
    {
      "cell_type": "markdown",
      "metadata": {
        "id": "view-in-github",
        "colab_type": "text"
      },
      "source": [
        "<a href=\"https://colab.research.google.com/github/YushirohMurasakih/Linear-Algebra/blob/main/Arevalo_Lab10.ipynb\" target=\"_parent\"><img src=\"https://colab.research.google.com/assets/colab-badge.svg\" alt=\"Open In Colab\"/></a>"
      ]
    },
    {
      "cell_type": "markdown",
      "metadata": {
        "id": "1zGPjdGQ4upa"
      },
      "source": [
        "Laboratory Activity 10 \\\\\n",
        "Arevalo, John Harold G."
      ]
    },
    {
      "cell_type": "markdown",
      "metadata": {
        "id": "UDjTjizl4gRk"
      },
      "source": [
        "1. Try to implement the linear transformations using spancs using the scatter plot view. Just do at least one example of linear transformation for a 2D space."
      ]
    },
    {
      "cell_type": "code",
      "metadata": {
        "id": "4ft0wRDf4gRi"
      },
      "source": [
        "import numpy as np\n",
        "import matplotlib.pyplot as plt\n",
        "%matplotlib inline"
      ],
      "execution_count": null,
      "outputs": []
    },
    {
      "cell_type": "code",
      "metadata": {
        "colab": {
          "base_uri": "https://localhost:8080/",
          "height": 265
        },
        "id": "6OjO3Exq4gRm",
        "outputId": "47024a8c-0a66-42b9-c1aa-8f355413b861"
      },
      "source": [
        "trns = np.array([\n",
        "    [3,-3],\n",
        "    [3,-3]\n",
        "])\n",
        "\n",
        "c = np.arange(0,1,0.15)\n",
        "\n",
        "plt.scatter(c*trns[0,0],c*trns[1,0], color='red')\n",
        "plt.scatter(c*trns[0,1],c*trns[1,1], color='blue')\n",
        "\n",
        "\n",
        "plt.xlim(-5,5)\n",
        "plt.ylim(-5,5)\n",
        "plt.grid()\n",
        "plt.show()"
      ],
      "execution_count": null,
      "outputs": [
        {
          "output_type": "display_data",
          "data": {
            "image/png": "[encoded data removed]",
            "text/plain": [
              "<Figure size 432x288 with 1 Axes>"
            ]
          },
          "metadata": {
            "tags": [],
            "needs_background": "light"
          }
        }
      ]
    },
    {
      "cell_type": "code",
      "metadata": {
        "id": "o4ydyEwN4gRo",
        "colab": {
          "base_uri": "https://localhost:8080/",
          "height": 265
        },
        "outputId": "79fd78a9-b487-4600-fc8b-20b77b488940"
      },
      "source": [
        "Scl = np.array([\n",
        "    [0,3],\n",
        "    [4,3]\n",
        "])\n",
        "\n",
        "c = np.arange(0,1,0.30)\n",
        "\n",
        "plt.scatter(c*Scl[0,0],c*Scl[1,0], color='red')\n",
        "plt.scatter(c*Scl[0,1],c*Scl[1,1], color='blue')\n",
        "\n",
        "\n",
        "plt.xlim(-5,5)\n",
        "plt.ylim(-5,5)\n",
        "plt.grid()\n",
        "plt.show()"
      ],
      "execution_count": null,
      "outputs": [
        {
          "output_type": "display_data",
          "data": {
            "image/png": "[encoded data removed]",
            "text/plain": [
              "<Figure size 432x288 with 1 Axes>"
            ]
          },
          "metadata": {
            "tags": [],
            "needs_background": "light"
          }
        }
      ]
    },
    {
      "cell_type": "code",
      "metadata": {
        "id": "1jVdJ2kx4gRq",
        "colab": {
          "base_uri": "https://localhost:8080/",
          "height": 265
        },
        "outputId": "c751975b-d355-4952-e9f8-58655e16a095"
      },
      "source": [
        "rot = np.array([\n",
        "    [0,4],\n",
        "    [4,0]\n",
        "])\n",
        "\n",
        "c = np.arange(0,1,0.15)\n",
        "\n",
        "plt.scatter(c*rot[0,0],c*rot[1,0], color='red')\n",
        "plt.scatter(c*rot[0,1],c*rot[1,1], color='blue')\n",
        "\n",
        "\n",
        "plt.xlim(-5,5)\n",
        "plt.ylim(-5,5)\n",
        "plt.grid()\n",
        "plt.show()"
      ],
      "execution_count": null,
      "outputs": [
        {
          "output_type": "display_data",
          "data": {
            "image/png": "[encoded data removed]",
            "text/plain": [
              "<Figure size 432x288 with 1 Axes>"
            ]
          },
          "metadata": {
            "tags": [],
            "needs_background": "light"
          }
        }
      ]
    },
    {
      "cell_type": "code",
      "metadata": {
        "id": "xoTUyRSs4gRs",
        "colab": {
          "base_uri": "https://localhost:8080/",
          "height": 265
        },
        "outputId": "d631ddaa-5359-4fde-abfd-3928dc65b636"
      },
      "source": [
        "skw = np.array([\n",
        "    [3,3],\n",
        "    [3,-3]\n",
        "])\n",
        "\n",
        "c = np.arange(0,1,.15)\n",
        "\n",
        "plt.scatter(c*skw[0,0],c*skw[1,0], color='red')\n",
        "plt.scatter(c*skw[0,1],c*skw[1,1], color='blue')\n",
        "\n",
        "\n",
        "plt.xlim(-5,5)\n",
        "plt.ylim(-5,5)\n",
        "plt.grid()\n",
        "plt.show()"
      ],
      "execution_count": null,
      "outputs": [
        {
          "output_type": "display_data",
          "data": {
            "image/png": "[encoded data removed]",
            "text/plain": [
              "<Figure size 432x288 with 1 Axes>"
            ]
          },
          "metadata": {
            "tags": [],
            "needs_background": "light"
          }
        }
      ]
    }
  ]
}