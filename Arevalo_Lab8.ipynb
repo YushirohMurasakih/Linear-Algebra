{
  "nbformat": 4,
  "nbformat_minor": 0,
  "metadata": {
    "colab": {
      "name": "Arevalo_Lab8",
      "provenance": [],
      "collapsed_sections": [],
      "include_colab_link": true
    },
    "kernelspec": {
      "name": "python3",
      "display_name": "Python 3"
    },
    "language_info": {
      "name": "python"
    }
  },
  "cells": [
    {
      "cell_type": "markdown",
      "metadata": {
        "id": "view-in-github",
        "colab_type": "text"
      },
      "source": [
        "<a href=\"https://colab.research.google.com/github/YushirohMurasakih/Linear-Algebra/blob/main/Arevalo_Lab8.ipynb\" target=\"_parent\"><img src=\"https://colab.research.google.com/assets/colab-badge.svg\" alt=\"Open In Colab\"/></a>"
      ]
    },
    {
      "cell_type": "markdown",
      "metadata": {
        "id": "Zn0EUIkNyBrA"
      },
      "source": [
        "Laboratory Activity 8 \\\\\n",
        "Arevalo, John Harold G."
      ]
    },
    {
      "cell_type": "markdown",
      "metadata": {
        "id": "yNNINnqZy5dg"
      },
      "source": [
        "1.  Try to find your own example of a system of linear equations (minimum of 2 equations) and solve them using the inverse equation. Explain the details of your example."
      ]
    },
    {
      "cell_type": "markdown",
      "metadata": {
        "id": "TdzHPv-cghnd"
      },
      "source": [
        "$$\n",
        "Matrices = \\left\\{\n",
        "    \\begin{array}\\\\\n",
        "        2x+y+z=8\\\\ \n",
        "        5x -3y +2z=3 \\\\\n",
        "        7x + y +3z=20\n",
        "    \\end{array}\n",
        "\\right. $$\n",
        "\n",
        "$$\n",
        "\\begin{bmatrix}2&1&1\\\\5&-3&2\\\\7&1&3\\end{bmatrix} \\cdot \\begin{bmatrix}x\\\\ y\\\\z\\end{bmatrix} = \\begin{bmatrix}8\\\\3\\\\20\\end{bmatrix}\n",
        "$$"
      ]
    },
    {
      "cell_type": "code",
      "metadata": {
        "id": "NFN0Xru6giAX"
      },
      "source": [
        "import numpy as np"
      ],
      "execution_count": 9,
      "outputs": []
    },
    {
      "cell_type": "code",
      "metadata": {
        "id": "LGbNCwfngkK_"
      },
      "source": [
        "A = np.array([\n",
        "              [2,1,1],\n",
        "              [5,-3,2],\n",
        "              [7,1,3]\n",
        "])\n",
        "\n",
        "B = np.array([\n",
        "              [8],\n",
        "              [3],\n",
        "              [20]\n",
        "])"
      ],
      "execution_count": 10,
      "outputs": []
    },
    {
      "cell_type": "code",
      "metadata": {
        "colab": {
          "base_uri": "https://localhost:8080/"
        },
        "id": "_1hQ41KQj3er",
        "outputId": "1ef9f915-9594-43a6-fc60-072984e55322"
      },
      "source": [
        "print(\"A = \\n\", A)\n",
        "print(\"\\nB = \\n\", B)"
      ],
      "execution_count": 11,
      "outputs": [
        {
          "output_type": "stream",
          "text": [
            "A = \n",
            " [[ 2  1  1]\n",
            " [ 5 -3  2]\n",
            " [ 7  1  3]]\n",
            "\n",
            "B = \n",
            " [[ 8]\n",
            " [ 3]\n",
            " [20]]\n"
          ],
          "name": "stdout"
        }
      ]
    },
    {
      "cell_type": "code",
      "metadata": {
        "colab": {
          "base_uri": "https://localhost:8080/"
        },
        "id": "5pPN7zWaj-vy",
        "outputId": "8d7751dc-8e71-44ba-da3d-a8af4d13b0b9"
      },
      "source": [
        "x_y = np.linalg.solve(A, B)\n",
        "\n",
        "print(x_y)"
      ],
      "execution_count": 13,
      "outputs": [
        {
          "output_type": "stream",
          "text": [
            "[[2.]\n",
            " [3.]\n",
            " [1.]]\n"
          ],
          "name": "stdout"
        }
      ]
    },
    {
      "cell_type": "code",
      "metadata": {
        "colab": {
          "base_uri": "https://localhost:8080/"
        },
        "id": "f7TxeSKHkAlU",
        "outputId": "d50a822f-6d92-4779-f731-44bbc1e3c86f"
      },
      "source": [
        "ans1 = A @ Xinv_Y\n",
        "np.allclose(ans1, B)"
      ],
      "execution_count": 14,
      "outputs": [
        {
          "output_type": "execute_result",
          "data": {
            "text/plain": [
              "True"
            ]
          },
          "metadata": {
            "tags": []
          },
          "execution_count": 14
        }
      ]
    },
    {
      "cell_type": "markdown",
      "metadata": {
        "id": "__vvHET4rIgl"
      },
      "source": [
        "$$\n",
        "Matrices = \\left\\{\n",
        "    \\begin{array}\\\\\n",
        "        3a-b+14c=7\\\\ \n",
        "        2a +2b +3c=0 \\\\\n",
        "        a - 12b -18c=33\n",
        "    \\end{array}\n",
        "\\right. $$\n",
        "\n",
        "$$\n",
        "\\begin{bmatrix}3&-1&14\\\\2&2&3\\\\a&-12&-18\\end{bmatrix} \\cdot \\begin{bmatrix}a\\\\ b\\\\c\\end{bmatrix} = \\begin{bmatrix}7\\\\0\\\\33\\end{bmatrix}\n",
        "$$"
      ]
    },
    {
      "cell_type": "code",
      "metadata": {
        "id": "PHiDo4jKrKLq"
      },
      "source": [
        "C = np.array([\n",
        "              [3,-1,14],\n",
        "              [2,2,3],\n",
        "              [1,-12,-18]\n",
        "])\n",
        "\n",
        "D = np.array([\n",
        "              [7],\n",
        "              [0],\n",
        "              [33]\n",
        "])"
      ],
      "execution_count": 7,
      "outputs": []
    },
    {
      "cell_type": "code",
      "metadata": {
        "colab": {
          "base_uri": "https://localhost:8080/"
        },
        "id": "hHS9Tbu2sUzZ",
        "outputId": "8496d318-e36a-40ce-a606-4af808ccb797"
      },
      "source": [
        "print(\"C = \\n\", C)\n",
        "print(\"\\nD = \\n\", D)"
      ],
      "execution_count": 8,
      "outputs": [
        {
          "output_type": "stream",
          "text": [
            "C = \n",
            " [[  3  -1  14]\n",
            " [  2   2   3]\n",
            " [  1 -12 -18]]\n",
            "\n",
            "D = \n",
            " [[ 7]\n",
            " [ 0]\n",
            " [33]]\n"
          ],
          "name": "stdout"
        }
      ]
    },
    {
      "cell_type": "code",
      "metadata": {
        "colab": {
          "base_uri": "https://localhost:8080/"
        },
        "id": "upDfJi3jv9ye",
        "outputId": "42c6b2aa-d32d-4112-aa0f-1ee8ee34f038"
      },
      "source": [
        "x_y = np.linalg.solve(C, D)\n",
        "\n",
        "print(x_y)"
      ],
      "execution_count": 16,
      "outputs": [
        {
          "output_type": "stream",
          "text": [
            "[[ 2.53846154]\n",
            " [-2.23325062]\n",
            " [-0.20347395]]\n"
          ],
          "name": "stdout"
        }
      ]
    },
    {
      "cell_type": "code",
      "metadata": {
        "colab": {
          "base_uri": "https://localhost:8080/"
        },
        "id": "sutGGKFZwHTk",
        "outputId": "ff6052b5-6d0d-4a2b-c661-3531576c0f8f"
      },
      "source": [
        "ans1 = C @ Xinv_Y\n",
        "np.allclose(ans1, D)"
      ],
      "execution_count": 18,
      "outputs": [
        {
          "output_type": "execute_result",
          "data": {
            "text/plain": [
              "True"
            ]
          },
          "metadata": {
            "tags": []
          },
          "execution_count": 18
        }
      ]
    },
    {
      "cell_type": "markdown",
      "metadata": {
        "id": "_G8865feykC2"
      },
      "source": [
        "2. Using your example in (1) solve it using np.linalg.solve(). Explain the function and its difference using the inverse equation."
      ]
    },
    {
      "cell_type": "code",
      "metadata": {
        "colab": {
          "base_uri": "https://localhost:8080/"
        },
        "id": "V2Boa92uydXh",
        "outputId": "199e0acf-fd61-4acb-994f-14785e0ecea7"
      },
      "source": [
        "X_inv = np.linalg.inv(A)\n",
        "Xinv_Y = X_inv @ B\n",
        "\n",
        "print(Xinv_Y)"
      ],
      "execution_count": 19,
      "outputs": [
        {
          "output_type": "stream",
          "text": [
            "[[2.]\n",
            " [3.]\n",
            " [1.]]\n"
          ],
          "name": "stdout"
        }
      ]
    },
    {
      "cell_type": "code",
      "metadata": {
        "colab": {
          "base_uri": "https://localhost:8080/"
        },
        "id": "YTKdcC5AyhtT",
        "outputId": "101eaa47-5e04-476d-99c8-cd8e20db87ab"
      },
      "source": [
        "X_inv = np.linalg.inv(C)\n",
        "Xinv_Y = X_inv @ D\n",
        "\n",
        "print(Xinv_Y)"
      ],
      "execution_count": 20,
      "outputs": [
        {
          "output_type": "stream",
          "text": [
            "[[ 2.53846154]\n",
            " [-2.23325062]\n",
            " [-0.20347395]]\n"
          ],
          "name": "stdout"
        }
      ]
    }
  ]
}